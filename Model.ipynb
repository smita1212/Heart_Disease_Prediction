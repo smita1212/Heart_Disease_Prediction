{
 "cells": [
  {
   "cell_type": "code",
   "execution_count": 108,
   "id": "c4b0b192",
   "metadata": {},
   "outputs": [],
   "source": [
    "from sklearn.preprocessing import StandardScaler\n",
    "import matplotlib.pyplot as plt \n",
    "import os\n",
    "import numpy as np\n",
    "import pandas as pd \n",
    "from sklearn.model_selection import train_test_split\n",
    "from sklearn.metrics import confusion_matrix, classification_report\n",
    "from sklearn import metrics\n",
    "from sklearn import preprocessing\n",
    "import itertools\n",
    "from sklearn.model_selection import validation_curve\n",
    "from sklearn.metrics import accuracy_score\n",
    "from sklearn.model_selection import GridSearchCV\n",
    "from sklearn.metrics import roc_curve, auc\n",
    "# import tensorflow as tf\n",
    "from sklearn import decomposition, datasets\n",
    "from sklearn import tree\n",
    "from sklearn.pipeline import Pipeline\n",
    "from sklearn.ensemble import RandomForestClassifier"
   ]
  },
  {
   "cell_type": "code",
   "execution_count": 109,
   "id": "422791e4",
   "metadata": {},
   "outputs": [
    {
     "data": {
      "text/html": [
       "<div>\n",
       "<style scoped>\n",
       "    .dataframe tbody tr th:only-of-type {\n",
       "        vertical-align: middle;\n",
       "    }\n",
       "\n",
       "    .dataframe tbody tr th {\n",
       "        vertical-align: top;\n",
       "    }\n",
       "\n",
       "    .dataframe thead th {\n",
       "        text-align: right;\n",
       "    }\n",
       "</style>\n",
       "<table border=\"1\" class=\"dataframe\">\n",
       "  <thead>\n",
       "    <tr style=\"text-align: right;\">\n",
       "      <th></th>\n",
       "      <th>age</th>\n",
       "      <th>sex</th>\n",
       "      <th>cp</th>\n",
       "      <th>trestbps</th>\n",
       "      <th>chol</th>\n",
       "      <th>fbs</th>\n",
       "      <th>restecg</th>\n",
       "      <th>thalach</th>\n",
       "      <th>exang</th>\n",
       "      <th>oldpeak</th>\n",
       "      <th>slope</th>\n",
       "      <th>ca</th>\n",
       "      <th>thal</th>\n",
       "      <th>target</th>\n",
       "    </tr>\n",
       "  </thead>\n",
       "  <tbody>\n",
       "    <tr>\n",
       "      <th>0</th>\n",
       "      <td>63</td>\n",
       "      <td>1</td>\n",
       "      <td>3</td>\n",
       "      <td>145</td>\n",
       "      <td>233</td>\n",
       "      <td>1</td>\n",
       "      <td>0</td>\n",
       "      <td>150</td>\n",
       "      <td>0</td>\n",
       "      <td>2.3</td>\n",
       "      <td>0</td>\n",
       "      <td>0</td>\n",
       "      <td>1</td>\n",
       "      <td>1</td>\n",
       "    </tr>\n",
       "    <tr>\n",
       "      <th>1</th>\n",
       "      <td>37</td>\n",
       "      <td>1</td>\n",
       "      <td>2</td>\n",
       "      <td>130</td>\n",
       "      <td>250</td>\n",
       "      <td>0</td>\n",
       "      <td>1</td>\n",
       "      <td>187</td>\n",
       "      <td>0</td>\n",
       "      <td>3.5</td>\n",
       "      <td>0</td>\n",
       "      <td>0</td>\n",
       "      <td>2</td>\n",
       "      <td>1</td>\n",
       "    </tr>\n",
       "    <tr>\n",
       "      <th>2</th>\n",
       "      <td>41</td>\n",
       "      <td>0</td>\n",
       "      <td>1</td>\n",
       "      <td>130</td>\n",
       "      <td>204</td>\n",
       "      <td>0</td>\n",
       "      <td>0</td>\n",
       "      <td>172</td>\n",
       "      <td>0</td>\n",
       "      <td>1.4</td>\n",
       "      <td>2</td>\n",
       "      <td>0</td>\n",
       "      <td>2</td>\n",
       "      <td>1</td>\n",
       "    </tr>\n",
       "    <tr>\n",
       "      <th>3</th>\n",
       "      <td>56</td>\n",
       "      <td>1</td>\n",
       "      <td>1</td>\n",
       "      <td>120</td>\n",
       "      <td>236</td>\n",
       "      <td>0</td>\n",
       "      <td>1</td>\n",
       "      <td>178</td>\n",
       "      <td>0</td>\n",
       "      <td>0.8</td>\n",
       "      <td>2</td>\n",
       "      <td>0</td>\n",
       "      <td>2</td>\n",
       "      <td>1</td>\n",
       "    </tr>\n",
       "    <tr>\n",
       "      <th>4</th>\n",
       "      <td>57</td>\n",
       "      <td>0</td>\n",
       "      <td>0</td>\n",
       "      <td>120</td>\n",
       "      <td>354</td>\n",
       "      <td>0</td>\n",
       "      <td>1</td>\n",
       "      <td>163</td>\n",
       "      <td>1</td>\n",
       "      <td>0.6</td>\n",
       "      <td>2</td>\n",
       "      <td>0</td>\n",
       "      <td>2</td>\n",
       "      <td>1</td>\n",
       "    </tr>\n",
       "  </tbody>\n",
       "</table>\n",
       "</div>"
      ],
      "text/plain": [
       "   age  sex  cp  trestbps  chol  fbs  restecg  thalach  exang  oldpeak  slope  \\\n",
       "0   63    1   3       145   233    1        0      150      0      2.3      0   \n",
       "1   37    1   2       130   250    0        1      187      0      3.5      0   \n",
       "2   41    0   1       130   204    0        0      172      0      1.4      2   \n",
       "3   56    1   1       120   236    0        1      178      0      0.8      2   \n",
       "4   57    0   0       120   354    0        1      163      1      0.6      2   \n",
       "\n",
       "   ca  thal  target  \n",
       "0   0     1       1  \n",
       "1   0     2       1  \n",
       "2   0     2       1  \n",
       "3   0     2       1  \n",
       "4   0     2       1  "
      ]
     },
     "execution_count": 109,
     "metadata": {},
     "output_type": "execute_result"
    }
   ],
   "source": [
    "filename = \"heart.csv\"\n",
    "df = pd.read_csv(filename)\n",
    "df.head()"
   ]
  },
  {
   "cell_type": "code",
   "execution_count": 110,
   "id": "9e5bc1a5",
   "metadata": {},
   "outputs": [
    {
     "name": "stdout",
     "output_type": "stream",
     "text": [
      "0.0 6.2\n"
     ]
    }
   ],
   "source": [
    "min = df[\"oldpeak\"].min()\n",
    "max = df[\"oldpeak\"].max()\n",
    "print(min,max)"
   ]
  },
  {
   "cell_type": "code",
   "execution_count": 111,
   "id": "64822862",
   "metadata": {},
   "outputs": [
    {
     "name": "stderr",
     "output_type": "stream",
     "text": [
      "<ipython-input-111-1a0684d6a76b>:4: UserWarning: Boolean Series key will be reindexed to match DataFrame index.\n",
      "  df3 = df2[df.chol < infor.loc[\"mean\", \"chol\"] + 3 * infor.loc[\"std\", \"chol\"]]\n",
      "<ipython-input-111-1a0684d6a76b>:5: UserWarning: Boolean Series key will be reindexed to match DataFrame index.\n",
      "  df4 = df3[df.thalach > infor.loc[\"mean\", \"thalach\"] - 3 * infor.loc[\"std\", \"thalach\"]]\n",
      "<ipython-input-111-1a0684d6a76b>:6: UserWarning: Boolean Series key will be reindexed to match DataFrame index.\n",
      "  df_new = df4[df.oldpeak < infor.loc[\"mean\", \"oldpeak\"] + 3 * infor.loc[\"std\", \"oldpeak\"]]\n"
     ]
    },
    {
     "data": {
      "text/html": [
       "<div>\n",
       "<style scoped>\n",
       "    .dataframe tbody tr th:only-of-type {\n",
       "        vertical-align: middle;\n",
       "    }\n",
       "\n",
       "    .dataframe tbody tr th {\n",
       "        vertical-align: top;\n",
       "    }\n",
       "\n",
       "    .dataframe thead th {\n",
       "        text-align: right;\n",
       "    }\n",
       "</style>\n",
       "<table border=\"1\" class=\"dataframe\">\n",
       "  <thead>\n",
       "    <tr style=\"text-align: right;\">\n",
       "      <th></th>\n",
       "      <th>age</th>\n",
       "      <th>sex</th>\n",
       "      <th>cp</th>\n",
       "      <th>trestbps</th>\n",
       "      <th>chol</th>\n",
       "      <th>fbs</th>\n",
       "      <th>restecg</th>\n",
       "      <th>thalach</th>\n",
       "      <th>exang</th>\n",
       "      <th>oldpeak</th>\n",
       "      <th>slope</th>\n",
       "      <th>ca</th>\n",
       "      <th>thal</th>\n",
       "      <th>target</th>\n",
       "    </tr>\n",
       "  </thead>\n",
       "  <tbody>\n",
       "    <tr>\n",
       "      <th>0</th>\n",
       "      <td>63</td>\n",
       "      <td>1</td>\n",
       "      <td>3</td>\n",
       "      <td>145</td>\n",
       "      <td>233</td>\n",
       "      <td>1</td>\n",
       "      <td>0</td>\n",
       "      <td>150</td>\n",
       "      <td>0</td>\n",
       "      <td>2.3</td>\n",
       "      <td>0</td>\n",
       "      <td>0</td>\n",
       "      <td>1</td>\n",
       "      <td>1</td>\n",
       "    </tr>\n",
       "    <tr>\n",
       "      <th>1</th>\n",
       "      <td>37</td>\n",
       "      <td>1</td>\n",
       "      <td>2</td>\n",
       "      <td>130</td>\n",
       "      <td>250</td>\n",
       "      <td>0</td>\n",
       "      <td>1</td>\n",
       "      <td>187</td>\n",
       "      <td>0</td>\n",
       "      <td>3.5</td>\n",
       "      <td>0</td>\n",
       "      <td>0</td>\n",
       "      <td>2</td>\n",
       "      <td>1</td>\n",
       "    </tr>\n",
       "    <tr>\n",
       "      <th>2</th>\n",
       "      <td>41</td>\n",
       "      <td>0</td>\n",
       "      <td>1</td>\n",
       "      <td>130</td>\n",
       "      <td>204</td>\n",
       "      <td>0</td>\n",
       "      <td>0</td>\n",
       "      <td>172</td>\n",
       "      <td>0</td>\n",
       "      <td>1.4</td>\n",
       "      <td>2</td>\n",
       "      <td>0</td>\n",
       "      <td>2</td>\n",
       "      <td>1</td>\n",
       "    </tr>\n",
       "    <tr>\n",
       "      <th>3</th>\n",
       "      <td>56</td>\n",
       "      <td>1</td>\n",
       "      <td>1</td>\n",
       "      <td>120</td>\n",
       "      <td>236</td>\n",
       "      <td>0</td>\n",
       "      <td>1</td>\n",
       "      <td>178</td>\n",
       "      <td>0</td>\n",
       "      <td>0.8</td>\n",
       "      <td>2</td>\n",
       "      <td>0</td>\n",
       "      <td>2</td>\n",
       "      <td>1</td>\n",
       "    </tr>\n",
       "    <tr>\n",
       "      <th>4</th>\n",
       "      <td>57</td>\n",
       "      <td>0</td>\n",
       "      <td>0</td>\n",
       "      <td>120</td>\n",
       "      <td>354</td>\n",
       "      <td>0</td>\n",
       "      <td>1</td>\n",
       "      <td>163</td>\n",
       "      <td>1</td>\n",
       "      <td>0.6</td>\n",
       "      <td>2</td>\n",
       "      <td>0</td>\n",
       "      <td>2</td>\n",
       "      <td>1</td>\n",
       "    </tr>\n",
       "  </tbody>\n",
       "</table>\n",
       "</div>"
      ],
      "text/plain": [
       "   age  sex  cp  trestbps  chol  fbs  restecg  thalach  exang  oldpeak  slope  \\\n",
       "0   63    1   3       145   233    1        0      150      0      2.3      0   \n",
       "1   37    1   2       130   250    0        1      187      0      3.5      0   \n",
       "2   41    0   1       130   204    0        0      172      0      1.4      2   \n",
       "3   56    1   1       120   236    0        1      178      0      0.8      2   \n",
       "4   57    0   0       120   354    0        1      163      1      0.6      2   \n",
       "\n",
       "   ca  thal  target  \n",
       "0   0     1       1  \n",
       "1   0     2       1  \n",
       "2   0     2       1  \n",
       "3   0     2       1  \n",
       "4   0     2       1  "
      ]
     },
     "execution_count": 111,
     "metadata": {},
     "output_type": "execute_result"
    }
   ],
   "source": [
    "infor = df.describe()\n",
    "\n",
    "df2 = df[df.trestbps < infor.loc[\"mean\", \"trestbps\"] + 3 * infor.loc[\"std\", \"trestbps\"]]\n",
    "df3 = df2[df.chol < infor.loc[\"mean\", \"chol\"] + 3 * infor.loc[\"std\", \"chol\"]]\n",
    "df4 = df3[df.thalach > infor.loc[\"mean\", \"thalach\"] - 3 * infor.loc[\"std\", \"thalach\"]]\n",
    "df_new = df4[df.oldpeak < infor.loc[\"mean\", \"oldpeak\"] + 3 * infor.loc[\"std\", \"oldpeak\"]]\n",
    "df_new.head()"
   ]
  },
  {
   "cell_type": "code",
   "execution_count": 112,
   "id": "29ab260f",
   "metadata": {},
   "outputs": [],
   "source": [
    "scaler = StandardScaler()\n",
    "X = df_new.drop(\"target\", 1).values\n",
    "y = df_new[\"target\"].astype(\"int\").values\n",
    "x_train, x_test, y_train, y_test = train_test_split( X, y, test_size=0.25, random_state=15)\n",
    "\n",
    "X_train = scaler.fit_transform(x_train)\n",
    "X_test = scaler.transform(x_test)"
   ]
  },
  {
   "cell_type": "code",
   "execution_count": 113,
   "id": "d07ae503",
   "metadata": {},
   "outputs": [],
   "source": [
    "def plot_confusion_matrix(cm, classes,\n",
    "                          normalize=False,\n",
    "                          title='Confusion matrix',\n",
    "                          cmap=plt.cm.Blues):\n",
    "    \n",
    "    plt.imshow(cm, interpolation='nearest', cmap=cmap)\n",
    "    plt.title(title)\n",
    "    plt.colorbar()\n",
    "    tick_marks = np.arange(len(classes))\n",
    "    plt.xticks(tick_marks, classes, rotation=45)\n",
    "    plt.yticks(tick_marks, classes)\n",
    "\n",
    "    fmt = '.2f' if normalize else 'd'\n",
    "    thresh = cm.max() / 2.\n",
    "    for i, j in itertools.product(range(cm.shape[0]), range(cm.shape[1])):\n",
    "        plt.text(j, i, format(cm[i, j], fmt),\n",
    "                 horizontalalignment=\"center\",\n",
    "                 color=\"white\" if cm[i, j] > thresh else \"black\")\n",
    "\n",
    "    plt.tight_layout()\n",
    "    plt.ylabel('True label')\n",
    "    plt.xlabel('Predicted label')\n",
    "    plt.show()\n",
    "    return \"\"\n",
    "def Model_Validation(item):\n",
    "    yhat = item.predict(X_train)\n",
    "    DT_Tr_Acc = accuracy_score(yhat,y_train)\n",
    "\n",
    "\n",
    "    yhat = item.predict(X_test)\n",
    "    DT_Ts_Acc = accuracy_score(yhat,y_test)\n",
    "\n",
    "    print('Training Accuracy : ', DT_Tr_Acc )\n",
    "\n",
    "\n",
    "    print('Testing Accuracy : ', DT_Ts_Acc )\n",
    "\n",
    "\n",
    "    tp,fn,fp,tn = confusion_matrix(y_test, yhat, labels=[1,0]).ravel()\n",
    "    tp,tn,fp,fn\n",
    "\n",
    "    cmx = confusion_matrix(y_test, yhat, labels=[1,0])\n",
    "    print(plot_confusion_matrix(cmx, classes=['target=1','target=0'],normalize= False,  title='Confusion matrix'))\n",
    "\n",
    "    precision_rate = tp / (tp + fp)\n",
    "    recall_rate = tp / (tp + fn)\n",
    "    print(\"The precision rate is: \", precision_rate)\n",
    "    print(\"The recall rate is: \", recall_rate)"
   ]
  },
  {
   "cell_type": "markdown",
   "id": "9a30ba80",
   "metadata": {},
   "source": [
    "### Random Forest Classifier"
   ]
  },
  {
   "cell_type": "code",
   "execution_count": null,
   "id": "3b4b4149",
   "metadata": {},
   "outputs": [],
   "source": [
    "rfc=RandomForestClassifier(random_state=42)\n",
    "\n",
    "param_grid = { \n",
    "    # 'n_estimators': [50,100,200, 300,500,1000,2000,3000],\n",
    "    # 'max_features': ['auto', 'sqrt', 'log2'],\n",
    "    # 'max_depth' : [4,5,6,7,8,20,30,50,100,150,200,300],\n",
    "    # 'criterion' :['gini', 'entropy']\n",
    "}\n",
    "CV_rfc = GridSearchCV(estimator=rfc, param_grid=param_grid, cv= 5)\n",
    "CV_rfc.fit(X_train, y_train)\n",
    "\n",
    "\n",
    "RFC_model = RandomForestClassifier(n_estimators=3000,max_features='auto',max_depth=300,criterion='entropy' )\n",
    "\n",
    "RFC_model.fit(X_train, y_train)\n",
    "\n",
    "Model_Validation(RFC_model)"
   ]
  },
  {
   "cell_type": "code",
   "execution_count": null,
   "id": "e5f73cdf",
   "metadata": {},
   "outputs": [],
   "source": [
    "import pickle\n",
    "pickle.dump(RFC_model, open('RFC_model.pkl', 'wb'))\n",
    "# RFC_model = pickle.load(open('RFC_model.pkl', 'rb'))\n",
    "# print(RFC_model)"
   ]
  },
  {
   "cell_type": "code",
   "execution_count": null,
   "id": "61e3d584",
   "metadata": {},
   "outputs": [],
   "source": [
    "predicted_class = RFC_model.predict(X_test[27,None])\n",
    "predicted_prob = RFC_model.predict_proba(X_test[27,None])\n",
    "print(\"Predicted Class :\", predicted_class)\n",
    "confidence = predicted_prob[0][1] if predicted_class == 1 else predicted_prob[0][0] \n",
    "print(\"Confidence :\", confidence)"
   ]
  },
  {
   "cell_type": "code",
   "execution_count": null,
   "id": "cb6e6114",
   "metadata": {},
   "outputs": [],
   "source": []
  },
  {
   "cell_type": "markdown",
   "id": "001515fc",
   "metadata": {},
   "source": [
    "### Neural Network"
   ]
  },
  {
   "cell_type": "code",
   "execution_count": 160,
   "id": "b8985477",
   "metadata": {},
   "outputs": [
    {
     "name": "stdout",
     "output_type": "stream",
     "text": [
      "Training Accuracy :  0.8863636363636364\n",
      "Testing Accuracy :  0.8513513513513513\n"
     ]
    },
    {
     "name": "stderr",
     "output_type": "stream",
     "text": [
      "D:\\Anaconda3\\lib\\site-packages\\sklearn\\neural_network\\_multilayer_perceptron.py:614: ConvergenceWarning: Stochastic Optimizer: Maximum iterations (200) reached and the optimization hasn't converged yet.\n",
      "  warnings.warn(\n"
     ]
    },
    {
     "data": {
      "image/png": "[encoded data removed]",
      "text/plain": [
       "<Figure size 432x288 with 2 Axes>"
      ]
     },
     "metadata": {
      "needs_background": "light"
     },
     "output_type": "display_data"
    },
    {
     "name": "stdout",
     "output_type": "stream",
     "text": [
      "\n",
      "The precision rate is:  0.8478260869565217\n",
      "The recall rate is:  0.9069767441860465\n"
     ]
    }
   ],
   "source": [
    "from sklearn.neural_network import MLPClassifier\n",
    "\n",
    "nn_model = MLPClassifier(solver='adam', alpha=0.01, hidden_layer_sizes=(11,1), random_state=1)\n",
    "\n",
    "nn_model = clf.fit(X_train, y_train)\n",
    "\n",
    "Model_Validation(nn)\n"
   ]
  },
  {
   "cell_type": "code",
   "execution_count": 170,
   "id": "68dea66b",
   "metadata": {},
   "outputs": [
    {
     "name": "stdout",
     "output_type": "stream",
     "text": [
      "Predicted Class : 0\n",
      "Confidence : 0.6362105839666287\n"
     ]
    }
   ],
   "source": [
    "nn_predicted_class = nn_model.predict(X_test[6,None])\n",
    "nn_predicted_prob = nn_model.predict_proba(X_test[6,None])\n",
    "print(\"Predicted Class :\", nn_predicted_class[0])\n",
    "nn_confidence = nn_predicted_prob[0][1] if nn_predicted_class == 1 else nn_predicted_prob[0][0] \n",
    "print(\"Confidence :\", nn_confidence)"
   ]
  },
  {
   "cell_type": "code",
   "execution_count": 171,
   "id": "da7b5dfe",
   "metadata": {},
   "outputs": [
    {
     "name": "stdout",
     "output_type": "stream",
     "text": [
      "MLPClassifier(alpha=0.01, hidden_layer_sizes=(11, 1), random_state=1)\n"
     ]
    }
   ],
   "source": [
    "import pickle\n",
    "pickle.dump(nn_model, open('NN_model.pkl', 'wb'))\n",
    "NN_model = pickle.load(open('NN_model.pkl', 'rb'))\n",
    "print(NN_model)"
   ]
  },
  {
   "cell_type": "markdown",
   "id": "8f759658",
   "metadata": {},
   "source": [
    "### Support Vector Machine"
   ]
  },
  {
   "cell_type": "code",
   "execution_count": null,
   "id": "ec029820",
   "metadata": {},
   "outputs": [],
   "source": [
    "# defining parameter range\n",
    "from sklearn.svm import SVC\n",
    "\n",
    "param_grid = {'C': [0.1, 1, 10, 100, 1000],\n",
    "              'gamma': [1, 0.1, 0.01, 0.001, 0.0001],\n",
    "              'kernel': ['rbf']}\n",
    " \n",
    "cv = GridSearchCV(SVC(), param_grid, refit = True, verbose = 0)\n",
    " \n",
    "# fitting the model for grid search\n",
    "cv.fit(X_train, y_train)"
   ]
  },
  {
   "cell_type": "code",
   "execution_count": null,
   "id": "00a37a88",
   "metadata": {},
   "outputs": [],
   "source": [
    "C = cv.best_estimator_.C\n",
    "kernel = cv.best_estimator_.kernel\n",
    "gamma = cv.best_estimator_.gamma\n",
    "\n",
    "SVC_model = SVC(C=C,kernel=kernel,gamma=gamma,probability=True )\n",
    "SVC_model = SVC_model.fit(X_train , y_train)\n",
    "Model_Validation(SVC_model)"
   ]
  },
  {
   "cell_type": "code",
   "execution_count": null,
   "id": "fc9a5b66",
   "metadata": {},
   "outputs": [],
   "source": [
    "predicted_class = SVC_model.predict(X_test[27,None])\n",
    "predicted_prob = SVC_model.predict_proba(X_test[27,None])\n",
    "print(\"Predicted Class :\", predicted_class)\n",
    "confidence = predicted_prob[0][1] if predicted_class == 1 else predicted_prob[0][0] \n",
    "print(\"Confidence :\", confidence)"
   ]
  },
  {
   "cell_type": "code",
   "execution_count": null,
   "id": "e67a764a",
   "metadata": {},
   "outputs": [],
   "source": [
    "import pickle\n",
    "pickle.dump(SVC_model, open('SVC_model.pkl', 'wb'))\n",
    "SVC_model = pickle.load(open('SVC_model.pkl', 'rb'))\n",
    "print(SVC_model)"
   ]
  },
  {
   "cell_type": "markdown",
   "id": "599343af",
   "metadata": {},
   "source": [
    "### Decision Tree"
   ]
  },
  {
   "cell_type": "code",
   "execution_count": null,
   "id": "a949104e",
   "metadata": {},
   "outputs": [],
   "source": [
    "DT_model  = tree.DecisionTreeClassifier(criterion='entropy',max_depth=200)\n",
    "\n",
    "DT_model.fit(X_train, y_train)\n",
    "Model_Validation(DT_model)"
   ]
  },
  {
   "cell_type": "code",
   "execution_count": null,
   "id": "09c9de1e",
   "metadata": {},
   "outputs": [],
   "source": [
    "predicted_class = DT_model.predict(X_test[10,None])\n",
    "predicted_prob = DT_model.predict_proba(X_test[10,None])\n",
    "print(\"Predicted Class :\", predicted_class[0])\n",
    "confidence = predicted_prob[0][1] if predicted_class[0] == 1 else predicted_prob[0][0] \n",
    "print(\"Confidence :\", confidence)"
   ]
  },
  {
   "cell_type": "code",
   "execution_count": null,
   "id": "2fca57f1",
   "metadata": {},
   "outputs": [],
   "source": [
    "pickle.dump(DT_model, open('DT_model.pkl', 'wb'))\n",
    "DT_model = pickle.load(open('DT_model.pkl', 'rb'))\n",
    "print(DT_model)"
   ]
  },
  {
   "cell_type": "code",
   "execution_count": null,
   "id": "1764c6f7",
   "metadata": {},
   "outputs": [],
   "source": [
    "!pip freeze > requirements2.txt"
   ]
  },
  {
   "cell_type": "code",
   "execution_count": null,
   "id": "9eb2a8f0",
   "metadata": {},
   "outputs": [],
   "source": [
    "!pip show keras"
   ]
  },
  {
   "cell_type": "code",
   "execution_count": null,
   "id": "561a0083",
   "metadata": {},
   "outputs": [],
   "source": [
    "!pip show matplotlib"
   ]
  },
  {
   "cell_type": "code",
   "execution_count": null,
   "id": "96e7c4c7",
   "metadata": {},
   "outputs": [],
   "source": [
    "!pip show tensorflow"
   ]
  },
  {
   "cell_type": "code",
   "execution_count": null,
   "id": "5010e234",
   "metadata": {},
   "outputs": [],
   "source": [
    "!pip install tensorflow"
   ]
  },
  {
   "cell_type": "code",
   "execution_count": 1,
   "id": "f05812c6",
   "metadata": {},
   "outputs": [
    {
     "ename": "ModuleNotFoundError",
     "evalue": "No module named 'keras'",
     "output_type": "error",
     "traceback": [
      "\u001b[1;31m---------------------------------------------------------------------------\u001b[0m",
      "\u001b[1;31mModuleNotFoundError\u001b[0m                       Traceback (most recent call last)",
      "\u001b[1;32m<ipython-input-1-9c5e0a19b646>\u001b[0m in \u001b[0;36m<module>\u001b[1;34m\u001b[0m\n\u001b[1;32m----> 1\u001b[1;33m \u001b[1;32mfrom\u001b[0m \u001b[0mkeras\u001b[0m\u001b[1;33m.\u001b[0m\u001b[0mmodels\u001b[0m \u001b[1;32mimport\u001b[0m \u001b[0mSequential\u001b[0m\u001b[1;33m\u001b[0m\u001b[1;33m\u001b[0m\u001b[0m\n\u001b[0m",
      "\u001b[1;31mModuleNotFoundError\u001b[0m: No module named 'keras'"
     ]
    }
   ],
   "source": [
    "from keras.models import Sequential"
   ]
  },
  {
   "cell_type": "code",
   "execution_count": 2,
   "id": "329498ca",
   "metadata": {},
   "outputs": [
    {
     "name": "stdout",
     "output_type": "stream",
     "text": [
      "Name: tensorflow\n",
      "Version: 2.3.0\n",
      "Summary: TensorFlow is an open source machine learning framework for everyone.\n",
      "Home-page: https://www.tensorflow.org/\n",
      "Author: Google Inc.\n",
      "Author-email: packages@tensorflow.org\n",
      "License: Apache 2.0\n",
      "Location: d:\\anaconda3\\lib\\site-packages\n",
      "Requires: astunparse, gast, h5py, opt-einsum, tensorflow-estimator, tensorboard, wrapt, six, termcolor, scipy, wheel, keras-preprocessing, grpcio, absl-py, google-pasta, numpy, protobuf\n",
      "Required-by: \n"
     ]
    }
   ],
   "source": [
    "!pip show tensorflow"
   ]
  },
  {
   "cell_type": "code",
   "execution_count": null,
   "id": "bdc73711",
   "metadata": {},
   "outputs": [],
   "source": []
  }
 ],
 "metadata": {
  "kernelspec": {
   "display_name": "Python 3",
   "language": "python",
   "name": "python3"
  },
  "language_info": {
   "codemirror_mode": {
    "name": "ipython",
    "version": 3
   },
   "file_extension": ".py",
   "mimetype": "text/x-python",
   "name": "python",
   "nbconvert_exporter": "python",
   "pygments_lexer": "ipython3",
   "version": "3.8.8"
  }
 },
 "nbformat": 4,
 "nbformat_minor": 5
}
